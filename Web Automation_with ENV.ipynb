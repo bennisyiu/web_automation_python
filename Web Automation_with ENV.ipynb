{
 "cells": [
  {
   "cell_type": "code",
   "execution_count": 2,
   "id": "915b52e0",
   "metadata": {},
   "outputs": [
    {
     "name": "stdout",
     "output_type": "stream",
     "text": [
      "Collecting selenium\n",
      "  Obtaining dependency information for selenium from https://files.pythonhosted.org/packages/f9/2f/9c6eef6487faca5006ae1ba43cf6ab627c7e3d2a7ec5a3b8728e2105472d/selenium-4.12.0-py3-none-any.whl.metadata\n",
      "  Downloading selenium-4.12.0-py3-none-any.whl.metadata (6.9 kB)\n",
      "Requirement already satisfied: urllib3[socks]<3,>=1.26 in /Applications/anaconda3/lib/python3.11/site-packages (from selenium) (1.26.16)\n",
      "Collecting trio~=0.17 (from selenium)\n",
      "  Obtaining dependency information for trio~=0.17 from https://files.pythonhosted.org/packages/a3/dd/b61fa61b186d3267ef3903048fbee29132963ae762fb70b08d4a3cd6f7aa/trio-0.22.2-py3-none-any.whl.metadata\n",
      "  Downloading trio-0.22.2-py3-none-any.whl.metadata (4.7 kB)\n",
      "Collecting trio-websocket~=0.9 (from selenium)\n",
      "  Obtaining dependency information for trio-websocket~=0.9 from https://files.pythonhosted.org/packages/f2/25/868488d8b05104e3d1bf162565bbadd5fe6d62bf903710e6402c3aaceb1e/trio_websocket-0.10.4-py3-none-any.whl.metadata\n",
      "  Downloading trio_websocket-0.10.4-py3-none-any.whl.metadata (4.6 kB)\n",
      "Requirement already satisfied: certifi>=2021.10.8 in /Applications/anaconda3/lib/python3.11/site-packages (from selenium) (2023.7.22)\n",
      "Requirement already satisfied: attrs>=20.1.0 in /Applications/anaconda3/lib/python3.11/site-packages (from trio~=0.17->selenium) (22.1.0)\n",
      "Requirement already satisfied: sortedcontainers in /Applications/anaconda3/lib/python3.11/site-packages (from trio~=0.17->selenium) (2.4.0)\n",
      "Requirement already satisfied: idna in /Applications/anaconda3/lib/python3.11/site-packages (from trio~=0.17->selenium) (3.4)\n",
      "Collecting outcome (from trio~=0.17->selenium)\n",
      "  Using cached outcome-1.2.0-py2.py3-none-any.whl (9.7 kB)\n",
      "Requirement already satisfied: sniffio in /Applications/anaconda3/lib/python3.11/site-packages (from trio~=0.17->selenium) (1.2.0)\n",
      "Collecting exceptiongroup (from trio-websocket~=0.9->selenium)\n",
      "  Obtaining dependency information for exceptiongroup from https://files.pythonhosted.org/packages/ad/83/b71e58666f156a39fb29417e4c8ca4bc7400c0dd4ed9e8842ab54dc8c344/exceptiongroup-1.1.3-py3-none-any.whl.metadata\n",
      "  Downloading exceptiongroup-1.1.3-py3-none-any.whl.metadata (6.1 kB)\n",
      "Collecting wsproto>=0.14 (from trio-websocket~=0.9->selenium)\n",
      "  Using cached wsproto-1.2.0-py3-none-any.whl (24 kB)\n",
      "Requirement already satisfied: PySocks!=1.5.7,<2.0,>=1.5.6 in /Applications/anaconda3/lib/python3.11/site-packages (from urllib3[socks]<3,>=1.26->selenium) (1.7.1)\n",
      "Collecting h11<1,>=0.9.0 (from wsproto>=0.14->trio-websocket~=0.9->selenium)\n",
      "  Using cached h11-0.14.0-py3-none-any.whl (58 kB)\n",
      "Downloading selenium-4.12.0-py3-none-any.whl (9.4 MB)\n",
      "\u001b[2K   \u001b[90m━━━━━━━━━━━━━━━━━━━━━━━━━━━━━━━━━━━━━━━━\u001b[0m \u001b[32m9.4/9.4 MB\u001b[0m \u001b[31m41.3 MB/s\u001b[0m eta \u001b[36m0:00:00\u001b[0ma \u001b[36m0:00:01\u001b[0m\n",
      "\u001b[?25hUsing cached trio-0.22.2-py3-none-any.whl (400 kB)\n",
      "Downloading trio_websocket-0.10.4-py3-none-any.whl (17 kB)\n",
      "Downloading exceptiongroup-1.1.3-py3-none-any.whl (14 kB)\n",
      "Installing collected packages: outcome, h11, exceptiongroup, wsproto, trio, trio-websocket, selenium\n",
      "Successfully installed exceptiongroup-1.1.3 h11-0.14.0 outcome-1.2.0 selenium-4.12.0 trio-0.22.2 trio-websocket-0.10.4 wsproto-1.2.0\n",
      "Collecting selenium-wire\n",
      "  Using cached selenium_wire-5.1.0-py3-none-any.whl (239 kB)\n",
      "Collecting blinker>=1.4 (from selenium-wire)\n",
      "  Using cached blinker-1.6.2-py3-none-any.whl (13 kB)\n",
      "Collecting brotli>=1.0.9 (from selenium-wire)\n",
      "  Obtaining dependency information for brotli>=1.0.9 from https://files.pythonhosted.org/packages/96/12/ad41e7fadd5db55459c4c401842b47f7fee51068f86dd2894dd0dcfc2d2a/Brotli-1.1.0-cp311-cp311-macosx_10_9_universal2.whl.metadata\n",
      "  Downloading Brotli-1.1.0-cp311-cp311-macosx_10_9_universal2.whl.metadata (5.5 kB)\n",
      "Requirement already satisfied: certifi>=2019.9.11 in /Applications/anaconda3/lib/python3.11/site-packages (from selenium-wire) (2023.7.22)\n",
      "Collecting kaitaistruct>=0.7 (from selenium-wire)\n",
      "  Using cached kaitaistruct-0.10-py2.py3-none-any.whl (7.0 kB)\n",
      "Requirement already satisfied: pyasn1>=0.3.1 in /Applications/anaconda3/lib/python3.11/site-packages (from selenium-wire) (0.4.8)\n",
      "Requirement already satisfied: pyOpenSSL>=22.0.0 in /Applications/anaconda3/lib/python3.11/site-packages (from selenium-wire) (23.2.0)\n",
      "Requirement already satisfied: pyparsing>=2.4.2 in /Applications/anaconda3/lib/python3.11/site-packages (from selenium-wire) (3.0.9)\n",
      "Requirement already satisfied: pysocks>=1.7.1 in /Applications/anaconda3/lib/python3.11/site-packages (from selenium-wire) (1.7.1)\n",
      "Requirement already satisfied: selenium>=4.0.0 in /Applications/anaconda3/lib/python3.11/site-packages (from selenium-wire) (4.12.0)\n",
      "Requirement already satisfied: wsproto>=0.14 in /Applications/anaconda3/lib/python3.11/site-packages (from selenium-wire) (1.2.0)\n",
      "Requirement already satisfied: zstandard>=0.14.1 in /Applications/anaconda3/lib/python3.11/site-packages (from selenium-wire) (0.19.0)\n",
      "Collecting h2>=4.0 (from selenium-wire)\n",
      "  Using cached h2-4.1.0-py3-none-any.whl (57 kB)\n",
      "Collecting hyperframe>=6.0 (from selenium-wire)\n",
      "  Using cached hyperframe-6.0.1-py3-none-any.whl (12 kB)\n",
      "Collecting hpack<5,>=4.0 (from h2>=4.0->selenium-wire)\n",
      "  Using cached hpack-4.0.0-py3-none-any.whl (32 kB)\n",
      "Requirement already satisfied: cryptography!=40.0.0,!=40.0.1,<42,>=38.0.0 in /Applications/anaconda3/lib/python3.11/site-packages (from pyOpenSSL>=22.0.0->selenium-wire) (41.0.2)\n",
      "Requirement already satisfied: urllib3[socks]<3,>=1.26 in /Applications/anaconda3/lib/python3.11/site-packages (from selenium>=4.0.0->selenium-wire) (1.26.16)\n",
      "Requirement already satisfied: trio~=0.17 in /Applications/anaconda3/lib/python3.11/site-packages (from selenium>=4.0.0->selenium-wire) (0.22.2)\n",
      "Requirement already satisfied: trio-websocket~=0.9 in /Applications/anaconda3/lib/python3.11/site-packages (from selenium>=4.0.0->selenium-wire) (0.10.4)\n",
      "Requirement already satisfied: h11<1,>=0.9.0 in /Applications/anaconda3/lib/python3.11/site-packages (from wsproto>=0.14->selenium-wire) (0.14.0)\n",
      "Requirement already satisfied: cffi>=1.12 in /Applications/anaconda3/lib/python3.11/site-packages (from cryptography!=40.0.0,!=40.0.1,<42,>=38.0.0->pyOpenSSL>=22.0.0->selenium-wire) (1.15.1)\n",
      "Requirement already satisfied: attrs>=20.1.0 in /Applications/anaconda3/lib/python3.11/site-packages (from trio~=0.17->selenium>=4.0.0->selenium-wire) (22.1.0)\n",
      "Requirement already satisfied: sortedcontainers in /Applications/anaconda3/lib/python3.11/site-packages (from trio~=0.17->selenium>=4.0.0->selenium-wire) (2.4.0)\n",
      "Requirement already satisfied: idna in /Applications/anaconda3/lib/python3.11/site-packages (from trio~=0.17->selenium>=4.0.0->selenium-wire) (3.4)\n",
      "Requirement already satisfied: outcome in /Applications/anaconda3/lib/python3.11/site-packages (from trio~=0.17->selenium>=4.0.0->selenium-wire) (1.2.0)\n",
      "Requirement already satisfied: sniffio in /Applications/anaconda3/lib/python3.11/site-packages (from trio~=0.17->selenium>=4.0.0->selenium-wire) (1.2.0)\n",
      "Requirement already satisfied: exceptiongroup in /Applications/anaconda3/lib/python3.11/site-packages (from trio-websocket~=0.9->selenium>=4.0.0->selenium-wire) (1.1.3)\n",
      "Requirement already satisfied: pycparser in /Applications/anaconda3/lib/python3.11/site-packages (from cffi>=1.12->cryptography!=40.0.0,!=40.0.1,<42,>=38.0.0->pyOpenSSL>=22.0.0->selenium-wire) (2.21)\n",
      "Downloading Brotli-1.1.0-cp311-cp311-macosx_10_9_universal2.whl (873 kB)\n",
      "\u001b[2K   \u001b[90m━━━━━━━━━━━━━━━━━━━━━━━━━━━━━━━━━━━━━━━━\u001b[0m \u001b[32m873.1/873.1 kB\u001b[0m \u001b[31m15.0 MB/s\u001b[0m eta \u001b[36m0:00:00\u001b[0m \u001b[36m0:00:01\u001b[0m\n",
      "\u001b[?25hInstalling collected packages: brotli, kaitaistruct, hyperframe, hpack, blinker, h2, selenium-wire\n",
      "Successfully installed blinker-1.6.2 brotli-1.1.0 h2-4.1.0 hpack-4.0.0 hyperframe-6.0.1 kaitaistruct-0.10 selenium-wire-5.1.0\n"
     ]
    }
   ],
   "source": [
    "## Install Selenium so we can use its libraries later\n",
    "!pip install selenium\n",
    "!pip install selenium-wire\n",
    "!pip install python-dotenv"
   ]
  },
  {
   "cell_type": "code",
   "execution_count": 5,
   "id": "f2e832a2",
   "metadata": {},
   "outputs": [],
   "source": [
    "## Bring in the required libraries\n",
    "import pandas as pd\n",
    "import numpy as np\n",
    "import time\n",
    "import math\n",
    "import seleniumwire\n",
    "from selenium import webdriver\n",
    "from selenium.webdriver.common.by import By\n",
    "from selenium.webdriver.chrome.service import Service\n",
    "from seleniumwire import webdriver\n",
    "from seleniumwire.utils import decode"
   ]
  },
  {
   "cell_type": "markdown",
   "id": "5e9da6e0",
   "metadata": {},
   "source": [
    "## PART 1 - take raw data from Neufast, then extra data & transform into the format we need for ISS entry\n",
    "### There are 6 Steps in Part I - run the following cells one by one, in order"
   ]
  },
  {
   "cell_type": "markdown",
   "id": "98120a1f",
   "metadata": {},
   "source": [
    "### STEP 1 - *** Replace the path below with the location of the excel file ***"
   ]
  },
  {
   "cell_type": "code",
   "execution_count": 21,
   "id": "1f16da5d",
   "metadata": {},
   "outputs": [
    {
     "name": "stdout",
     "output_type": "stream",
     "text": [
      "Step 1 --- Successful!\n"
     ]
    }
   ],
   "source": [
    "# take the raw excel\n",
    "# file path: C:\\Users\\hyyiu\\Desktop\\testing\\raw data from neufast\\Candidate Report_no_mandarin.xlsx\n",
    "# *** STEP 1 ***\n",
    "raw = pd.read_excel(r'C:\\Users\\hyyiu\\Desktop\\AI_interview\\raw data from AI interview platform\\demo.xlsx', \n",
    "                    sheet_name=['Candidate Info', 'Auto-Score', 'Candidate Answer'])\n",
    "sid_df = raw.get('Candidate Info')\n",
    "score_df = raw.get('Auto-Score')\n",
    "preference_df = raw.get('Candidate Answer')\n",
    "\n",
    "print('Step 1 --- Successful!')"
   ]
  },
  {
   "cell_type": "markdown",
   "id": "62d75175",
   "metadata": {},
   "source": [
    "### STEP 2"
   ]
  },
  {
   "cell_type": "code",
   "execution_count": 22,
   "id": "6a583dbe",
   "metadata": {},
   "outputs": [
    {
     "name": "stdout",
     "output_type": "stream",
     "text": [
      "Step 2 --- Successful!\n"
     ]
    }
   ],
   "source": [
    "# Get all Student IDs & Student Names from dataframe 1 ('Candidate Info' Sheet)\n",
    "\n",
    "sid_col = sid_df['University']\n",
    "student_name_col = sid_df['Fullname']\n",
    "\n",
    "print('Step 2 --- Successful!')"
   ]
  },
  {
   "cell_type": "markdown",
   "id": "c97efcac",
   "metadata": {},
   "source": [
    "### Step 3 - convert scores from Neufast 10-point scale to ISS 3-point scale"
   ]
  },
  {
   "cell_type": "code",
   "execution_count": 23,
   "id": "2f6718b8",
   "metadata": {},
   "outputs": [],
   "source": [
    "## This is a function to convert a SINGLE SCORE from a 10-point scale to ISS 3-point scale\n",
    "def conversion(y):\n",
    "    result_map = {\n",
    "        (0, 0.99): 1,\n",
    "        (1, 1.5): 1.5,\n",
    "        (1.51, 2): 2,\n",
    "        (2.01, 2.5): 2.5,\n",
    "        (2.51, 3): 3,\n",
    "        (3.01, 100): 3,\n",
    "    }\n",
    "    result = y/10*3\n",
    "    \n",
    "    for range_min, range_max in result_map:\n",
    "        if result >= range_min and result <= range_max:\n",
    "            return result_map[(range_min, range_max)]\n",
    "    return math.floor(result)"
   ]
  },
  {
   "cell_type": "code",
   "execution_count": 24,
   "id": "1bc4da1c",
   "metadata": {},
   "outputs": [],
   "source": [
    "## Converter Factory \n",
    "\n",
    "def converter(col):\n",
    "    for index, value in col.items():\n",
    "        col.loc[index] = conversion(value)\n",
    "    \n",
    "    return col"
   ]
  },
  {
   "cell_type": "code",
   "execution_count": 25,
   "id": "cd06489e",
   "metadata": {},
   "outputs": [],
   "source": [
    "## Clean all score columns to make sure there is no empty cell. If so, fill it with 0\n",
    "\n",
    "communication_col = score_df['Impression Score'].fillna(0)\n",
    "teamwork_col = score_df['Contextual Performance Score'].fillna(0)\n",
    "cultural_col = score_df['Adaptive Performance Score'].fillna(0)\n",
    "independence_col = score_df['Task Performance Score'].fillna(0)\n",
    "resilience_col = score_df['Overall Score'].fillna(0)"
   ]
  },
  {
   "cell_type": "code",
   "execution_count": 26,
   "id": "237d5ed7",
   "metadata": {},
   "outputs": [],
   "source": [
    "## Now convert all 5 columns\n",
    "\n",
    "communication_col = converter(communication_col)\n",
    "teamwork_col = converter(teamwork_col)\n",
    "cultural_col = converter(cultural_col)\n",
    "independence_col = converter(independence_col)\n",
    "resilience_col = converter(resilience_col)"
   ]
  },
  {
   "cell_type": "markdown",
   "id": "df9f9482",
   "metadata": {},
   "source": [
    "### STEP 3 - Sort out English & Mandarin scores (fill Mandarin score with 0 for non-Mandarin speakers)"
   ]
  },
  {
   "cell_type": "code",
   "execution_count": 27,
   "id": "2676a78f",
   "metadata": {},
   "outputs": [
    {
     "name": "stdout",
     "output_type": "stream",
     "text": [
      "Step 3 --- Successful!\n"
     ]
    }
   ],
   "source": [
    "# Round down overall score and calculate English score\n",
    "\n",
    "comments_col = score_df['Overall Score'].round(decimals=2)\n",
    "english_col = score_df['English Oral Communication'].divide(2).round(decimals=0)\n",
    " \n",
    "# if there is no column for Mandarin, create a new one and fill it with zero\n",
    "if 'Mandarin Oral Communication' not in score_df.columns:\n",
    "    score_df['Mandarin Oral Communication'] = 0\n",
    "    putonghua_col = score_df['Mandarin Oral Communication']\n",
    "else:\n",
    "    putonghua_col = score_df['Mandarin Oral Communication'].divide(2).round(decimals=0)\n",
    "    \n",
    "print('Step 3 --- Successful!')"
   ]
  },
  {
   "cell_type": "markdown",
   "id": "dcaeebac",
   "metadata": {},
   "source": [
    "#### STEP 4"
   ]
  },
  {
   "cell_type": "code",
   "execution_count": 28,
   "id": "bcd7aef6",
   "metadata": {},
   "outputs": [
    {
     "name": "stdout",
     "output_type": "stream",
     "text": [
      "Step 4 --- Successful!\n"
     ]
    }
   ],
   "source": [
    "# take columns from preference_df ('Candidate Answer' Sheet)\n",
    "\n",
    "preferred_i_locations_col = preference_df['Q5: (International WIE) Please put up to 3 preferred locations in the answer box. NA if not interested. (E.g.: Thailand, Singapore, Korea) (Short Question)']\n",
    "preferred_i_budget_col = preference_df['Q7: (International WIE) Please state your budget in HKD here. Put NA if not applicable. (E.g.: HKD30000) (Short Question)']\n",
    "preferred_m_locations_col = preference_df['Q6: (Mainland WIE) Please put up to 3 preferred locations in the answer box. NA if not interested. (E.g.: Shenzhen, Shanghai, Hangzhou) (Short Question)']\n",
    "preferred_m_budget_col = preference_df['Q8: (Mainland WIE) Please state your budget in HKD here. Put NA if not applicable. (E.g.: HKD30000) (Short Question)']\n",
    "\n",
    "print('Step 4 --- Successful!')"
   ]
  },
  {
   "cell_type": "markdown",
   "id": "fe979fb2",
   "metadata": {},
   "source": [
    "### STEP 5 - make sure human input has no whitespace around it"
   ]
  },
  {
   "cell_type": "code",
   "execution_count": 29,
   "id": "5d005be3",
   "metadata": {},
   "outputs": [
    {
     "name": "stdout",
     "output_type": "stream",
     "text": [
      "Step 5 --- Successful!\n"
     ]
    }
   ],
   "source": [
    "# Strip extra space around all text input & column names first\n",
    "# columns with manual input: sid_col', student_name_col, preferred_i_locations_col, \n",
    "# preferred_i_budget_col, preferred_m_locations_col, preferred_m_budget_col\n",
    "\n",
    "sid_col = sid_col.str.strip()\n",
    "student_name_col = student_name_col.str.strip()\n",
    "preferred_i_locations_col = preferred_i_locations_col.str.strip()\n",
    "preferred_i_budget_col = preferred_i_budget_col.str.strip()\n",
    "preferred_m_locations_col = preferred_m_locations_col.str.strip()\n",
    "preferred_m_budget_col = preferred_m_budget_col.str.strip()\n",
    "\n",
    "print('Step 5 --- Successful!')"
   ]
  },
  {
   "cell_type": "markdown",
   "id": "8336654d",
   "metadata": {},
   "source": [
    "### STEP 6 - Bring all columns together & rename them for our new Excel"
   ]
  },
  {
   "cell_type": "code",
   "execution_count": 30,
   "id": "ffefb622",
   "metadata": {},
   "outputs": [
    {
     "name": "stdout",
     "output_type": "stream",
     "text": [
      "Step 6 --- Successful!\n"
     ]
    }
   ],
   "source": [
    "## Bringing all columns together:\n",
    "data = [sid_col, student_name_col, communication_col, teamwork_col, cultural_col, independence_col, resilience_col,\n",
    "                comments_col, english_col, putonghua_col, preferred_i_locations_col, preferred_i_budget_col, preferred_m_locations_col,\n",
    "                preferred_m_budget_col]\n",
    "\n",
    "# Create a new dataframe with all column\n",
    "column_names = ['studentID','studentName', 'communication', 'teamwork', 'culturalAwareness', 'independence',\n",
    "               'resilience', 'comments', 'english', 'putonghua', 'internationalLocations', 'intlBudget', 'mainlandLocations', 'mainlandBudget']\n",
    "combined_df = pd.concat(data, axis=1)\n",
    "combined_df.columns = column_names\n",
    "combined_df.head(5)\n",
    "\n",
    "print('Step 6 --- Successful!')"
   ]
  },
  {
   "cell_type": "markdown",
   "id": "8fbcec4c",
   "metadata": {},
   "source": [
    "### STEP 7 - All 'AI Interview' and the student iss link column to the new Excel"
   ]
  },
  {
   "cell_type": "code",
   "execution_count": 8,
   "id": "ecb4b6f6",
   "metadata": {},
   "outputs": [
    {
     "data": {
      "text/plain": [
       "True"
      ]
     },
     "execution_count": 8,
     "metadata": {},
     "output_type": "execute_result"
    }
   ],
   "source": [
    "# bring in OS & dotenv library to load environment variables\n",
    "\n",
    "import os\n",
    "from dotenv import load_dotenv\n",
    "load_dotenv()"
   ]
  },
  {
   "cell_type": "code",
   "execution_count": 31,
   "id": "aa8a51e1",
   "metadata": {},
   "outputs": [
    {
     "name": "stdout",
     "output_type": "stream",
     "text": [
      "Step 7 --- Successful!\n",
      "Now, go to the folder and check if there is a file called \"scores_for_iss_entry\"!\n"
     ]
    }
   ],
   "source": [
    "# os.environ['BASE_URL'] = 'base_url'\n",
    "\n",
    "## Add the Interviewer column \n",
    "combined_df['interviewedBy'] = 'AI Interview'\n",
    "\n",
    "## Student ISS Link colum to the dataframe\n",
    "base_url = os.environ.get('BASE_URL')\n",
    "combined_df['student_link'] = base_url+combined_df['studentID']\n",
    "\n",
    "# Make student ID the index of each row, and view new dataframe again\n",
    "final_df = combined_df.set_index('studentID')\n",
    "# FINALLY, save the merged dataframe as a new excel file\n",
    "# MAKE SURE THERE IS NO FILE THAT HAS THE SAME FILE NAME IN THE FOLDER\n",
    "final_df.to_excel('scores_for_iss_entry.xlsx')\n",
    "\n",
    "print('Step 7 --- Successful!')\n",
    "print('Now, go to the folder and check if there is a file called \"scores_for_iss_entry\"!')"
   ]
  },
  {
   "cell_type": "markdown",
   "id": "c3a3b68c",
   "metadata": {},
   "source": [
    "## PART 2 - Auto score entry on ISS"
   ]
  },
  {
   "cell_type": "markdown",
   "id": "1380016b",
   "metadata": {},
   "source": [
    "### STEP 1 - open browser, sign into ISS ***please update the NetID & Password below***"
   ]
  },
  {
   "cell_type": "code",
   "execution_count": 32,
   "id": "c5c7fc38",
   "metadata": {},
   "outputs": [],
   "source": [
    "## Sign into ISS\n",
    "# default to open browser with chrome & go to ISS\n",
    "browser = webdriver.Chrome()\n",
    "browser.get(os.environ.get('ISS'))\n",
    "time.sleep(2)\n",
    "# Sign in\n",
    "browser.find_element(By.NAME, 'j_username').send_keys(os.environ.get('NETID')) # enter your NetID here\n",
    "browser.find_element(By.NAME, 'j_password').send_keys(os.environ.get('PASSWORD')) # enter your password here\n",
    "browser.find_element(By.NAME, 'buttonAction').click()\n"
   ]
  },
  {
   "cell_type": "markdown",
   "id": "7a3bd307",
   "metadata": {},
   "source": [
    "### STEP 2 - If sign-in is successful, run the following code to automate the data entry process"
   ]
  },
  {
   "cell_type": "code",
   "execution_count": 33,
   "id": "3cd66507",
   "metadata": {},
   "outputs": [
    {
     "name": "stdout",
     "output_type": "stream",
     "text": [
      "---- Student ID: 20073362D is DONE ---- \n",
      "---- Student ID: 22028032D is DONE ---- \n",
      "---- Student ID: 22031872D is DONE ---- \n",
      "---- Student ID: 19049672D is DONE ---- \n",
      "---- Student ID: 20039693D is DONE ---- \n",
      "--- End of Programme ---\n"
     ]
    }
   ],
   "source": [
    "def enter_all_students():\n",
    "    ## Make sure excel is in the excel same format with the column names and fields\n",
    "    ## Make sure the columns are in the same order as the fields being entered on ISS\n",
    "    ## open excel file. Make sure the excel location is in the same folder where this Notebook file is\n",
    "    scores = pd.read_excel('scores_for_iss_entry.xlsx', index_col=0)\n",
    "    # check the first 5 rows to visualise the rows & columns\n",
    "    scores.head(5)\n",
    "    # Loop starts here\n",
    "    for index, row in scores.iterrows():\n",
    "#         print(f'Working on Student ID: {index} .....')\n",
    "        try: \n",
    "            # go to the current student's page on ISS\n",
    "            browser.get(row['student_link'])\n",
    "            time.sleep(1)\n",
    "            browser.find_element(By.NAME, 'communication').clear()\n",
    "            browser.find_element(By.NAME, 'communication').send_keys(row['communication'])\n",
    "            # Enter score for \"Team work\"\n",
    "            browser.find_element(By.NAME, 'jobSpecification').clear()\n",
    "            browser.find_element(By.NAME, 'jobSpecification').send_keys(row['teamwork'])\n",
    "            # Enter score for \"Cultural Awareness\"\n",
    "            browser.find_element(By.NAME, 'culturalAwareness').clear()\n",
    "            browser.find_element(By.NAME, 'culturalAwareness').send_keys(row['culturalAwareness'])\n",
    "            # Enter score for \"Independence & Problem Solving\"\n",
    "            browser.find_element(By.NAME, 'independence').clear()\n",
    "            browser.find_element(By.NAME, 'independence').send_keys(row['independence'])\n",
    "            # Enter score for \"Resilience\"\n",
    "            browser.find_element(By.NAME, 'teamwork').clear()\n",
    "            browser.find_element(By.NAME, 'teamwork').send_keys(row['resilience'])\n",
    "            #Enter score for English Proficiency\n",
    "            browser.find_element(By.NAME, 'english').clear()\n",
    "            browser.find_element(By.NAME, 'english').send_keys(row['english'])\n",
    "            #Enter score for Putonghua Proficiency\n",
    "            # check if the n/a box is checked \n",
    "            if browser.find_element(By.NAME, 'putonghuaNa').is_selected():\n",
    "                continue \n",
    "            else:\n",
    "                browser.find_element(By.NAME, 'putonghua').clear()\n",
    "                # if not checked, check if row['putonghua'] == 0,\n",
    "                if (row['putonghua'] == 0): \n",
    "                # then check the n/a box\n",
    "                    browser.find_element(By.NAME, 'putonghuaNa').click()\n",
    "                else: \n",
    "                    # if not 0 or checked => enter the score\n",
    "                    browser.find_element(By.NAME, 'putonghua').send_keys(row['putonghua'])\n",
    "            #Enter \"Comments\"\n",
    "            browser.find_element(By.NAME, 'comments').clear()\n",
    "#             browser.find_element(By.NAME, 'comments').send_keys('Overall Score from Neufast: ')\n",
    "            browser.find_element(By.NAME, 'comments').send_keys(row['comments'])\n",
    "            # Enter Mainland WIE\n",
    "            browser.find_element(By.NAME, 'recommenedProgramme1').clear()\n",
    "            browser.find_element(By.NAME, 'recommenedProgramme1').send_keys(row['mainlandLocations'])\n",
    "            # Enter budget for Mainland WIE \n",
    "            browser.find_element(By.NAME, 'recommenedProgramme2').clear()\n",
    "            browser.find_element(By.NAME, 'recommenedProgramme2').send_keys(row['mainlandBudget'])\n",
    "            # Enter International WIE locations\n",
    "            browser.find_element(By.NAME, 'recommenedProgramme3').clear()\n",
    "            browser.find_element(By.NAME, 'recommenedProgramme3').send_keys(row['internationalLocations'])\n",
    "            # Enter International WIE locations\n",
    "            browser.find_element(By.NAME, 'recommenedProgramme4').clear()\n",
    "            browser.find_element(By.NAME, 'recommenedProgramme4').send_keys(row['intlBudget'])\n",
    "            #Enter \"Interviewed By\"\n",
    "            browser.find_element(By.NAME, 'interviewedBy').clear()\n",
    "            browser.find_element(By.NAME, 'interviewedBy').send_keys(row['interviewedBy'])\n",
    "            # Hit \"Save\" button\n",
    "            browser.find_element(By.NAME, 'saveButton').click() ## if this is successful, print SAVED!\n",
    "            time.sleep(1)\n",
    "            if (str(browser.current_url) == str(row['student_link'])):\n",
    "                print(f'WARNING! Student ID: {index} is not SAVED! Please check input values.')\n",
    "            else:\n",
    "                print(f'---- Student ID: {index} is DONE ---- ') \n",
    "        except:\n",
    "            continue\n",
    "    print('--- End of Programme ---')\n",
    "     \n",
    "enter_all_students()"
   ]
  },
  {
   "cell_type": "code",
   "execution_count": null,
   "id": "d9f60405",
   "metadata": {},
   "outputs": [],
   "source": []
  },
  {
   "cell_type": "code",
   "execution_count": null,
   "id": "4003414b",
   "metadata": {},
   "outputs": [],
   "source": []
  },
  {
   "cell_type": "code",
   "execution_count": null,
   "id": "45955425",
   "metadata": {},
   "outputs": [],
   "source": []
  },
  {
   "cell_type": "code",
   "execution_count": null,
   "id": "18f9bfa8",
   "metadata": {},
   "outputs": [],
   "source": []
  }
 ],
 "metadata": {
  "kernelspec": {
   "display_name": "Python 3 (ipykernel)",
   "language": "python",
   "name": "python3"
  },
  "language_info": {
   "codemirror_mode": {
    "name": "ipython",
    "version": 3
   },
   "file_extension": ".py",
   "mimetype": "text/x-python",
   "name": "python",
   "nbconvert_exporter": "python",
   "pygments_lexer": "ipython3",
   "version": "3.11.4"
  }
 },
 "nbformat": 4,
 "nbformat_minor": 5
}
